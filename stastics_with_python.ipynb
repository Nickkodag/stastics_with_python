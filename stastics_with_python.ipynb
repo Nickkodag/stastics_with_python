{
  "nbformat": 4,
  "nbformat_minor": 0,
  "metadata": {
    "colab": {
      "name": "stastics_with_python.ipynb",
      "provenance": []
    },
    "kernelspec": {
      "name": "python3",
      "display_name": "Python 3"
    }
  },
  "cells": [
    {
      "cell_type": "code",
      "metadata": {
        "id": "NkKBgaaqZxfR"
      },
      "source": [
        "#stasrics is about variability , data set consist of planet \n",
        "#organise data"
      ],
      "execution_count": null,
      "outputs": []
    },
    {
      "cell_type": "code",
      "metadata": {
        "id": "P1LPJKBtiUtf"
      },
      "source": [
        "#lets start with T test to understand nature of community and understand how it implement #for initial every T value have p value we can call it probability value  "
      ],
      "execution_count": null,
      "outputs": []
    },
    {
      "cell_type": "code",
      "metadata": {
        "id": "qpwCgRTQi2f0"
      },
      "source": [
        "#having low p value is always good thing  it reprent in decimal for initial understanding "
      ],
      "execution_count": null,
      "outputs": []
    },
    {
      "cell_type": "code",
      "metadata": {
        "id": "udB0yqSviUrw"
      },
      "source": [
        "#t -test tells you how significant group is than other how to measure all requirement "
      ],
      "execution_count": null,
      "outputs": []
    },
    {
      "cell_type": "code",
      "metadata": {
        "id": "hxuteEfKiUm6"
      },
      "source": [
        "import numpy as np\n",
        "from scipy import stats\n"
      ],
      "execution_count": 1,
      "outputs": []
    },
    {
      "cell_type": "code",
      "metadata": {
        "id": "Yjo83WkonUux"
      },
      "source": [
        "## Define 2 random distributions\n",
        "#Sample Size\n",
        "N = 10"
      ],
      "execution_count": 2,
      "outputs": []
    },
    {
      "cell_type": "code",
      "metadata": {
        "id": "0FoqtjGKndK9"
      },
      "source": [
        "#Gaussian distributed data with mean = 2 and var = 1\n",
        "a = np.random.randn(N) + 2\n",
        "#Gaussian distributed data with with mean = 0 and var = 1\n",
        "b = np.random.randn(N)"
      ],
      "execution_count": 5,
      "outputs": []
    },
    {
      "cell_type": "code",
      "metadata": {
        "id": "BOrvjbqznkg4"
      },
      "source": [
        "## Calculate the Standard Deviation\n",
        "#Calculate the variance to get the standard deviation"
      ],
      "execution_count": 4,
      "outputs": []
    },
    {
      "cell_type": "code",
      "metadata": {
        "id": "Us8f9uXrnrFd"
      },
      "source": [
        "#For unbiased max likelihood estimate we have to divide the var by N-1, and therefore the parameter ddof = 1\n",
        "var_a = a.var(ddof=1)\n",
        "var_b = b.var(ddof=1)\n"
      ],
      "execution_count": 6,
      "outputs": []
    },
    {
      "cell_type": "code",
      "metadata": {
        "colab": {
          "base_uri": "https://localhost:8080/"
        },
        "id": "aicZvv0ynzZ3",
        "outputId": "04d39e5f-da01-4c3f-ca46-a78abc9e01a3"
      },
      "source": [
        "\n",
        "#std deviation\n",
        "s = np.sqrt((var_a + var_b)/2)#return square root number \n",
        "s"
      ],
      "execution_count": 7,
      "outputs": [
        {
          "output_type": "execute_result",
          "data": {
            "text/plain": [
              "1.158118030182156"
            ]
          },
          "metadata": {
            "tags": []
          },
          "execution_count": 7
        }
      ]
    },
    {
      "cell_type": "code",
      "metadata": {
        "colab": {
          "base_uri": "https://localhost:8080/"
        },
        "id": "HnWGMoDNoJX6",
        "outputId": "3658f4d2-11fd-4ab0-8a07-1cc1a206e8bd"
      },
      "source": [
        "t = (a.mean() - b.mean())/(s*np.sqrt(2/N))\n",
        "t"
      ],
      "execution_count": 9,
      "outputs": [
        {
          "output_type": "execute_result",
          "data": {
            "text/plain": [
              "4.091041377762064"
            ]
          },
          "metadata": {
            "tags": []
          },
          "execution_count": 9
        }
      ]
    },
    {
      "cell_type": "code",
      "metadata": {
        "colab": {
          "base_uri": "https://localhost:8080/"
        },
        "id": "0NNeEjBMoNrw",
        "outputId": "dea1856b-82df-4d35-d085-475bd5a7b70c"
      },
      "source": [
        "## Compare with the critical t-value\n",
        "#Degrees of freedom\n",
        "df = 2*N - 2\n",
        "df"
      ],
      "execution_count": 11,
      "outputs": [
        {
          "output_type": "execute_result",
          "data": {
            "text/plain": [
              "18"
            ]
          },
          "metadata": {
            "tags": []
          },
          "execution_count": 11
        }
      ]
    },
    {
      "cell_type": "code",
      "metadata": {
        "id": "iubhg44roj2o"
      },
      "source": [
        "#p-value after comparison with the t \n",
        "p = 1 - stats.t.cdf(t,df=df)\n"
      ],
      "execution_count": 12,
      "outputs": []
    },
    {
      "cell_type": "code",
      "metadata": {
        "colab": {
          "base_uri": "https://localhost:8080/"
        },
        "id": "e4Bz2LKDop-6",
        "outputId": "932eb69c-2012-499c-e26e-54308223a7c4"
      },
      "source": [
        "print(\"t = \" + str(t))\n",
        "print(\"p = \" + str(2*p))\n",
        "### You can see that after comparing the t statistic with the critical t value\n",
        "# (computed internally) we get a good p value of 0.0005 and thus we reject the null hypothesis and thus it proves that the mean of the two distributions are different and statistically significant.\n",
        "\n",
        "\n",
        "## Cross Checking with the internal scipy function\n",
        "t2, p2 = stats.ttest_ind(a,b)\n",
        "print(\"t = \" + str(t2))\n",
        "print(\"p = \" + str(p2))\n"
      ],
      "execution_count": 14,
      "outputs": [
        {
          "output_type": "stream",
          "text": [
            "t = 4.091041377762064\n",
            "p = 0.0006857547007932396\n",
            "t = 4.091041377762064\n",
            "p = 0.0006857547007931924\n"
          ],
          "name": "stdout"
        }
      ]
    },
    {
      "cell_type": "code",
      "metadata": {
        "id": "RdX2xSZqowKH"
      },
      "source": [
        ""
      ],
      "execution_count": null,
      "outputs": []
    }
  ]
}